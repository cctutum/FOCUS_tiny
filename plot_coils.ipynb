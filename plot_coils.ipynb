{
 "cells": [
  {
   "cell_type": "code",
   "execution_count": null,
   "metadata": {},
   "outputs": [],
   "source": [
    "import sys\n",
    "import csv\n",
    "import matplotlib.pyplot as plt\n",
    "import jax.numpy as np\n",
    "import mayavi as maya\n",
    "from mayavi import mlab\n",
    "import tables as tb\n",
    "mlab.init_notebook('x3d',800,800)"
   ]
  },
  {
   "cell_type": "code",
   "execution_count": null,
   "metadata": {},
   "outputs": [],
   "source": [
    "def draw_surface(r):\n",
    "    r = np.concatenate((r, r[0:, :, :]), axis=0)\n",
    "    r = np.concatenate((r, r[:, 0:, :]), axis=1)\n",
    "    x = r[:,:,0]\n",
    "    y = r[:,:,1]\n",
    "    z = r[:,:,2]\n",
    "    p = mlab.mesh(x,y,z,color=(0.8,0.0,0.0))\n",
    "    return p\n",
    "\n",
    "def draw_coils(r):\n",
    "    for ic in range(r.shape[0]):\n",
    "        p = mlab.plot3d(r[ic,:,0], r[ic,:,1], r[ic,:,2], tube_radius = 0.004, line_width = 0.01, color = (0.0, 0.0, 0.8))\n",
    "    return p\n",
    "\n",
    "def r(fc, theta):\n",
    "    r = np.zeros((3, fc.shape[1], 32 + 1))\n",
    "    for m in range(fc.shape[2]):\n",
    "        r += fc[:3, :, None, m] * np.cos(m * theta)[None, None, :] + fc[3:, :, None, m] * np.sin(m * theta)[None, None, :]\n",
    "    return np.transpose(r, (1, 2, 0))"
   ]
  },
  {
   "cell_type": "code",
   "execution_count": null,
   "metadata": {},
   "outputs": [],
   "source": [
    "nn = np.load(\"nn.npy\")\n",
    "sg = np.load(\"sg.npy\")\n",
    "r_surf = np.load(\"r_surf.npy\")\n",
    "with tb.open_file(\"coils.hdf5\", \"r\") as f:\n",
    "    fc = np.asarray(f.root.coilSeries[:, :, :])\n",
    "theta = np.linspace(0, 2 * np.pi, 32 + 1)\n",
    "l = r(fc, theta)"
   ]
  },
  {
   "cell_type": "code",
   "execution_count": null,
   "metadata": {},
   "outputs": [],
   "source": [
    "mlab.clf()\n",
    "p = draw_surface(r_surf)\n",
    "p = draw_coils(l)\n",
    "p"
   ]
  },
  {
   "cell_type": "code",
   "execution_count": null,
   "metadata": {},
   "outputs": [],
   "source": [
    "with tb.open_file(\"coils_final.hdf5\", \"r\") as f:\n",
    "    fc = np.asarray(f.root.coilSeries[:, :, :])\n",
    "theta = np.linspace(0, 2 * np.pi, 32 + 1)\n",
    "l = r(fc, theta)"
   ]
  },
  {
   "cell_type": "code",
   "execution_count": null,
   "metadata": {},
   "outputs": [],
   "source": [
    "mlab.clf()\n",
    "p = draw_surface(r_surf)\n",
    "p = draw_coils(l)\n",
    "p"
   ]
  },
  {
   "cell_type": "code",
   "execution_count": null,
   "metadata": {},
   "outputs": [],
   "source": []
  }
 ],
 "metadata": {
  "kernelspec": {
   "display_name": "Python 3",
   "language": "python",
   "name": "python3"
  },
  "language_info": {
   "codemirror_mode": {
    "name": "ipython",
    "version": 3
   },
   "file_extension": ".py",
   "mimetype": "text/x-python",
   "name": "python",
   "nbconvert_exporter": "python",
   "pygments_lexer": "ipython3",
   "version": "3.7.7"
  }
 },
 "nbformat": 4,
 "nbformat_minor": 4
}
